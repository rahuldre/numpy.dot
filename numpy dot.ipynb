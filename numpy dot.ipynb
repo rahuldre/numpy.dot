{
 "cells": [
  {
   "cell_type": "code",
   "execution_count": 31,
   "metadata": {},
   "outputs": [],
   "source": [
    "#Why we should use python fucntions instead of using loops\n",
    "#i.e using vectorization instead of non-vectorization"
   ]
  },
  {
   "cell_type": "code",
   "execution_count": 32,
   "metadata": {},
   "outputs": [],
   "source": [
    "import numpy as np\n",
    "import time\n",
    "a=np.array([1,2,3,4])"
   ]
  },
  {
   "cell_type": "code",
   "execution_count": 35,
   "metadata": {},
   "outputs": [
    {
     "name": "stdout",
     "output_type": "stream",
     "text": [
      "25043.004487610786 \n",
      " 1.4159679412841797 ms\n"
     ]
    }
   ],
   "source": [
    "a = np.random.rand(100000)\n",
    "b = np.random.rand(100000)\n",
    "t1=time.time()\n",
    "c = np.dot(a,b)\n",
    "t = time.time()\n",
    "print(c, '\\n', str((t-t1)*1000) , \"ms\") #time taken by using fuction"
   ]
  },
  {
   "cell_type": "code",
   "execution_count": 36,
   "metadata": {},
   "outputs": [
    {
     "name": "stdout",
     "output_type": "stream",
     "text": [
      "0.228581643731281 \n",
      " 55.930137634277344 ms\n"
     ]
    }
   ],
   "source": [
    "c=0\n",
    "t=time.time()\n",
    "\n",
    "for i in range(100000):\n",
    "    c= a[i]*b[i]\n",
    "t1=time.time()\n",
    "print(c, '\\n', str((t1-t)*1000) , \"ms\") #time taken using for loop"
   ]
  },
  {
   "cell_type": "code",
   "execution_count": null,
   "metadata": {},
   "outputs": [],
   "source": []
  }
 ],
 "metadata": {
  "kernelspec": {
   "display_name": "Python 3",
   "language": "python",
   "name": "python3"
  },
  "language_info": {
   "codemirror_mode": {
    "name": "ipython",
    "version": 3
   },
   "file_extension": ".py",
   "mimetype": "text/x-python",
   "name": "python",
   "nbconvert_exporter": "python",
   "pygments_lexer": "ipython3",
   "version": "3.7.3"
  }
 },
 "nbformat": 4,
 "nbformat_minor": 2
}
